{
 "cells": [
  {
   "cell_type": "markdown",
   "metadata": {},
   "source": [
    "This notebook implements some of the theoretical concepts discussed in Lecture 8 of the course \"An introduction to quantum entanglement\", available at https://ion.nechita.net/2020-an-introduction-to-quantum-entanglement/\n",
    "\n",
    "Please send remarks and comments regarding both this notebook and the lecture notes to nechita@irsamc.ups-tlse.fr"
   ]
  },
  {
   "cell_type": "code",
   "execution_count": 81,
   "metadata": {},
   "outputs": [],
   "source": [
    "import numpy as np\n",
    "import scipy\n",
    "import qutip"
   ]
  },
  {
   "cell_type": "markdown",
   "metadata": {},
   "source": [
    "# The \"tiles\" PPT entangled state"
   ]
  },
  {
   "cell_type": "code",
   "execution_count": 79,
   "metadata": {},
   "outputs": [
    {
     "name": "stdout",
     "output_type": "stream",
     "text": [
      "Eigenvalues of rhoX :  [3.63165655e-18 1.74018794e-17 7.40004164e-17 9.38320119e-17\n",
      " 1.13224561e-16 2.50000000e-01 2.50000000e-01 2.50000000e-01\n",
      " 2.50000000e-01]\n"
     ]
    }
   ],
   "source": [
    "# the 5 vectors of the \"tiles\" UPB for 2 qutrits\n",
    "x1 = np.kron([[1, 0, 0]], [[1, -1, 0]]/np.sqrt(2))\n",
    "x2 = np.kron([[0, 0, 1]], [[0, 1, -1]]/np.sqrt(2))\n",
    "x3 = np.kron([[1, -1, 0]]/np.sqrt(2), [[0, 0, 1]])\n",
    "x4 = np.kron([[0, 1, -1]]/np.sqrt(2), [[1, 0, 0]])\n",
    "x5 = np.kron([[1, 1, 1]], [[1, 1, 1]])/3\n",
    "\n",
    "# the \"tiles\" density matrix\n",
    "rhoX = 1/(9-5)*(np.identity(9) - (x1.T@x1 + x2.T@x2 + x3.T@x3 + x4.T@x4 + x5.T@x5))\n",
    "\n",
    "# it has indeed positive eigenvalues\n",
    "print(\"Eigenvalues of rhoX : \", scipy.linalg.eigh(rhoX, eigvals_only=True))"
   ]
  },
  {
   "cell_type": "code",
   "execution_count": 88,
   "metadata": {},
   "outputs": [
    {
     "name": "stdout",
     "output_type": "stream",
     "text": [
      "Minimal eigenvalue of the partial transpose =  -6.2074201300892115e-18\n"
     ]
    }
   ],
   "source": [
    "# we are dealing with 2 qutrits\n",
    "d = 3\n",
    "\n",
    "# compute the partial transpose with respect to the second subsystem\n",
    "rhoXq = qutip.Qobj(rhoX)\n",
    "rhoXq.dims = [[d,d], [d,d]]\n",
    "rhoXGammaq = qutip.partial_transpose(rhoXq, [0, 1])\n",
    "rhoXGamma = rhoXGammaq.full()\n",
    "\n",
    "# test if it is positive semidefinite\n",
    "print(\"Minimal eigenvalue of the partial transpose = \", np.min(scipy.linalg.eigh(rhoXGamma, eigvals_only=True)))"
   ]
  },
  {
   "cell_type": "markdown",
   "metadata": {},
   "source": [
    "Hence, the quantum \"tiles\" state $\\rho_X$ is PPT. One can show, using the properties of the UPB $X$, that $\\rho_X$ is entangled."
   ]
  },
  {
   "cell_type": "markdown",
   "metadata": {},
   "source": [
    "# Semidefinite programs"
   ]
  },
  {
   "cell_type": "markdown",
   "metadata": {},
   "source": [
    "We are using the package **CVXPY** to easily code SDPs in python, with the ***CVXOPT*** solver. We are discussing two important examples here, the operator norm and the trace norm of matrices."
   ]
  },
  {
   "cell_type": "code",
   "execution_count": 56,
   "metadata": {},
   "outputs": [
    {
     "name": "stdout",
     "output_type": "stream",
     "text": [
      "['CVXOPT', 'ECOS', 'ECOS_BB', 'GLPK', 'GLPK_MI', 'OSQP', 'SCS']\n"
     ]
    }
   ],
   "source": [
    "import cvxpy as cp\n",
    "print(cp.installed_solvers())"
   ]
  },
  {
   "cell_type": "markdown",
   "metadata": {},
   "source": [
    "As an easy example, recall the SDP for the operator norm: \n",
    "$\\min t$ under the constraints $-t I_d \\leq A \\leq tI_d$. We are comparing the value of the SDP with the value returned by the singular value decomposition, for a random matrix. "
   ]
  },
  {
   "cell_type": "code",
   "execution_count": 89,
   "metadata": {},
   "outputs": [
    {
     "name": "stdout",
     "output_type": "stream",
     "text": [
      "SDP value =  13.961380533208963\n",
      "Norm of the matrix =  13.321719970830118\n"
     ]
    }
   ],
   "source": [
    "n = 100\n",
    "\n",
    "# construct a random n x n matrix \n",
    "A = np.random.randn(n, n)\n",
    "A = (A+A.T)/2;\n",
    "\n",
    "# construct the problem\n",
    "t = cp.Variable(1)\n",
    "objective = cp.Minimize(t)\n",
    "constraints = [t*np.identity(n) + A >> 0, t*np.identity(n) - A >> 0]\n",
    "prob = cp.Problem(objective, constraints)\n",
    "\n",
    "# solve the problem\n",
    "prob.solve(solver=\"CVXOPT\")\n",
    "\n",
    "print(\"SDP value = \", prob.value)\n",
    "print(\"Norm of the matrix = \", np.max(scipy.linalg.eigh(A, eigvals_only=True)))"
   ]
  },
  {
   "cell_type": "markdown",
   "metadata": {},
   "source": [
    "# The DPS hierarchy"
   ]
  },
  {
   "cell_type": "markdown",
   "metadata": {},
   "source": [
    "We need the following implementation of the partial trace function, which respects the structure of **CVXPY** SDPs"
   ]
  },
  {
   "cell_type": "code",
   "execution_count": 102,
   "metadata": {},
   "outputs": [],
   "source": [
    "from cvxpy.expressions.expression import Expression\n",
    "\n",
    "\n",
    "def expr_as_np_array(cvx_expr):\n",
    "    if cvx_expr.is_scalar():\n",
    "        return np.array(cvx_expr)\n",
    "    elif len(cvx_expr.shape) == 1:\n",
    "        return np.array([v for v in cvx_expr])\n",
    "    else:\n",
    "        # then cvx_expr is a 2d array\n",
    "        rows = []\n",
    "        for i in range(cvx_expr.shape[0]):\n",
    "            row = [cvx_expr[i,j] for j in range(cvx_expr.shape[1])]\n",
    "            rows.append(row)\n",
    "        arr = np.array(rows)\n",
    "        return arr\n",
    "\n",
    "\n",
    "def np_array_as_expr(np_arr):\n",
    "    aslist = np_arr.tolist()\n",
    "    expr = cp.bmat(aslist)\n",
    "    return expr\n",
    "\n",
    "\n",
    "def np_partial_trace(rho, dims, axis=0):\n",
    "    \"\"\"\n",
    "    Takes partial trace over the subsystem defined by 'axis'\n",
    "    rho: a matrix\n",
    "    dims: a list containing the dimension of each subsystem\n",
    "    axis: the index of the subsytem to be traced out\n",
    "    (We assume that each subsystem is square)\n",
    "    \"\"\"\n",
    "    dims_ = np.array(dims)\n",
    "    # Reshape the matrix into a tensor with the following shape:\n",
    "    # [dim_0, dim_1, ..., dim_n, dim_0, dim_1, ..., dim_n]\n",
    "    # Each subsystem gets one index for its row and another one for its column\n",
    "    reshaped_rho = np.reshape(rho, np.concatenate((dims_, dims_), axis=None))\n",
    "\n",
    "    # Move the subsystems to be traced towards the end\n",
    "    reshaped_rho = np.moveaxis(reshaped_rho, axis, -1)\n",
    "    reshaped_rho = np.moveaxis(reshaped_rho, len(dims)+axis-1, -1)\n",
    "\n",
    "    # Trace over the very last row and column indices\n",
    "    traced_out_rho = np.trace(reshaped_rho, axis1=-2, axis2=-1)\n",
    "\n",
    "    # traced_out_rho is still in the shape of a tensor\n",
    "    # Reshape back to a matrix\n",
    "    dims_untraced = np.delete(dims_, axis)\n",
    "    rho_dim = np.prod(dims_untraced)\n",
    "    return traced_out_rho.reshape([rho_dim, rho_dim])\n",
    "\n",
    "\n",
    "def partial_trace(rho, dims, axis=0):\n",
    "    if not isinstance(rho, Expression):\n",
    "        rho = cp.Constant(shape=rho.shape, value=rho)\n",
    "    rho_np = expr_as_np_array(rho)\n",
    "    traced_rho = np_partial_trace(rho_np, dims, axis)\n",
    "    traced_rho = np_array_as_expr(traced_rho)\n",
    "    return traced_rho"
   ]
  },
  {
   "cell_type": "markdown",
   "metadata": {},
   "source": [
    "We shall consider a noisy version of the \"tiles\" state:\n",
    "$$\\rho_p = (1-p)\\rho_X + p \\frac{I_9}{9}.$$\n",
    "Let us set $p=0.1$. "
   ]
  },
  {
   "cell_type": "code",
   "execution_count": 90,
   "metadata": {},
   "outputs": [
    {
     "name": "stdout",
     "output_type": "stream",
     "text": [
      "Minimal eigenvalue of the partial transpose =  -6.2074201300892115e-18\n"
     ]
    }
   ],
   "source": [
    "# a noisy version of the \"tiles\" state\n",
    "p=0.1\n",
    "rho = (1-p)*rhoX + p*np.identity(9)/9\n",
    "\n",
    "# the PPT criterion does not detect the entanglement in rho\n",
    "rhoq = qutip.Qobj(rho)\n",
    "rhoq.dims = [[d,d], [d,d]]\n",
    "rhoGammaq = qutip.partial_transpose(rhoq, [0, 1])\n",
    "rhoGamma = rhoGammaq.full()\n",
    "\n",
    "print(\"Minimal eigenvalue of the partial transpose = \", np.min(scipy.linalg.eigh(rhoXGamma, eigvals_only=True)))"
   ]
  },
  {
   "cell_type": "markdown",
   "metadata": {},
   "source": [
    "We check the existence of a $2$-symmetric extension "
   ]
  },
  {
   "cell_type": "code",
   "execution_count": 108,
   "metadata": {},
   "outputs": [
    {
     "name": "stdout",
     "output_type": "stream",
     "text": [
      "SDP value =  1.0000000000000002\n"
     ]
    }
   ],
   "source": [
    "# construct the problem; first, the variable\n",
    "sigma = cp.Variable((d**3,d**3), symmetric=True)\n",
    "\n",
    "# then, the constraints: postiivity and marginals\n",
    "constraints = [sigma >> 0]\n",
    "constraints += [partial_trace(sigma, dims = [d, d, d], axis = 2) == rho]\n",
    "constraints += [partial_trace(sigma, dims = [d, d, d], axis = 1) == rho]\n",
    "\n",
    "# we minimize the trace of sigma\n",
    "prob = cp.Problem(cp.Maximize(cp.trace(sigma)), constraints)\n",
    "\n",
    "# solve the problem\n",
    "prob.solve(solver=\"CVXOPT\")\n",
    "\n",
    "print(\"SDP value = \", prob.value)"
   ]
  },
  {
   "cell_type": "markdown",
   "metadata": {},
   "source": [
    "The state $\\rho$ has a $2$-symmetric extension $\\implies$ we cannot conclude"
   ]
  },
  {
   "cell_type": "markdown",
   "metadata": {},
   "source": [
    "We check the existence of a $3$-symmetric extension "
   ]
  },
  {
   "cell_type": "code",
   "execution_count": null,
   "metadata": {},
   "outputs": [],
   "source": [
    "# construct the problem; first, the variable\n",
    "sigma = cp.Variable((d**4,d**4), symmetric=True)\n",
    "\n",
    "# then, the constraints: postiivity and marginals\n",
    "constraints = [sigma >> 0]\n",
    "constraints += [partial_trace(partial_trace(sigma, dims = [d, d, d, d], axis = 3), dims = [d, d, d], axis = 2) == rho]\n",
    "constraints += [partial_trace(partial_trace(sigma, dims = [d, d, d, d], axis = 3), dims = [d, d, d], axis = 1) == rho]\n",
    "constraints += [partial_trace(partial_trace(sigma, dims = [d, d, d, d], axis = 1), dims = [d, d, d], axis = 1) == rho]\n",
    "\n",
    "# we minimize the trace of sigma\n",
    "prob = cp.Problem(cp.Maximize(cp.trace(sigma)), constraints)\n",
    "\n",
    "# solve the problem\n",
    "prob.solve(solver=\"CVXOPT\", verbose = True)\n",
    "\n",
    "print(\"SDP value = \", prob.value)"
   ]
  },
  {
   "cell_type": "code",
   "execution_count": null,
   "metadata": {},
   "outputs": [],
   "source": []
  }
 ],
 "metadata": {
  "kernelspec": {
   "display_name": "Python 3",
   "language": "python",
   "name": "python3"
  },
  "language_info": {
   "codemirror_mode": {
    "name": "ipython",
    "version": 3
   },
   "file_extension": ".py",
   "mimetype": "text/x-python",
   "name": "python",
   "nbconvert_exporter": "python",
   "pygments_lexer": "ipython3",
   "version": "3.7.7"
  }
 },
 "nbformat": 4,
 "nbformat_minor": 4
}
